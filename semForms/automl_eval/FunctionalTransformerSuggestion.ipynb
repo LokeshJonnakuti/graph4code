{
 "cells": [
  {
   "cell_type": "code",
   "execution_count": 1,
   "id": "210a8c0b-1d81-48ba-bbd0-0c75dc8354b7",
   "metadata": {},
   "outputs": [],
   "source": [
    "from semForms.automl_eval.auto_example import handle_transforms\n",
    "from sklearn.ensemble import RandomForestRegressor\n",
    "from sklearn.model_selection import cross_val_score\n",
    "from sklearn import metrics\n",
    "import statistics\n",
    "import numpy\n",
    "\n",
    "from sklearn.pipeline import Pipeline\n",
    "from sklearn.preprocessing import FunctionTransformer"
   ]
  },
  {
   "cell_type": "code",
   "execution_count": 2,
   "id": "c94bbd41-3c12-483b-a3b1-ec65042479bd",
   "metadata": {},
   "outputs": [
    {
     "name": "stdout",
     "output_type": "stream",
     "text": [
      "       median_income  housing_median_age  total_rooms  total_bedrooms  \\\n",
      "0             8.3252                41.0        880.0           129.0   \n",
      "1             8.3014                21.0       7099.0          1106.0   \n",
      "2             7.2574                52.0       1467.0           190.0   \n",
      "3             5.6431                52.0       1274.0           235.0   \n",
      "4             3.8462                52.0       1627.0           280.0   \n",
      "...              ...                 ...          ...             ...   \n",
      "20635         1.5603                25.0       1665.0           374.0   \n",
      "20636         2.5568                18.0        697.0           150.0   \n",
      "20637         1.7000                17.0       2254.0           485.0   \n",
      "20638         1.8672                18.0       1860.0           409.0   \n",
      "20639         2.3886                16.0       2785.0           616.0   \n",
      "\n",
      "       population  households  latitude  longitude  \n",
      "0           322.0       126.0     37.88    -122.23  \n",
      "1          2401.0      1138.0     37.86    -122.22  \n",
      "2           496.0       177.0     37.85    -122.24  \n",
      "3           558.0       219.0     37.85    -122.25  \n",
      "4           565.0       259.0     37.85    -122.25  \n",
      "...           ...         ...       ...        ...  \n",
      "20635       845.0       330.0     39.48    -121.09  \n",
      "20636       356.0       114.0     39.49    -121.21  \n",
      "20637      1007.0       433.0     39.43    -121.22  \n",
      "20638       741.0       349.0     39.43    -121.32  \n",
      "20639      1387.0       530.0     39.37    -121.24  \n",
      "\n",
      "[20640 rows x 8 columns]\n",
      "       median_house_value\n",
      "0                452600.0\n",
      "1                358500.0\n",
      "2                352100.0\n",
      "3                341300.0\n",
      "4                342200.0\n",
      "...                   ...\n",
      "20635             78100.0\n",
      "20636             77100.0\n",
      "20637             92300.0\n",
      "20638             84700.0\n",
      "20639             89400.0\n",
      "\n",
      "[20640 rows x 1 columns]\n",
      "['median_house_value']\n"
     ]
    }
   ],
   "source": [
    "from sklearn.datasets import fetch_openml\n",
    "dataset      = fetch_openml('houses', version=1) # name is dataset_name\n",
    "X            = dataset['data']\n",
    "target       = dataset['target'].to_frame()\n",
    "\n",
    "print(X)\n",
    "print(target)\n",
    "print(dataset['target_names'])"
   ]
  },
  {
   "cell_type": "code",
   "execution_count": 3,
   "id": "ea93814d-6974-4904-acec-29367c4dc411",
   "metadata": {},
   "outputs": [
    {
     "name": "stdout",
     "output_type": "stream",
     "text": [
      "Averaged r2 score on original data:  0.5814812832363954\n"
     ]
    }
   ],
   "source": [
    "# Set standard classifier (could be any AutoML as well)\n",
    "estimator = RandomForestRegressor(random_state = 1908)\n",
    "# Evaluate on original data\n",
    "scores = cross_val_score(estimator, X, numpy.ravel(target), cv=3, scoring='r2')\n",
    "print(\"Averaged r2 score on original data:  \" + str(statistics.mean(scores)))"
   ]
  },
  {
   "cell_type": "code",
   "execution_count": 4,
   "id": "229298eb-ed44-484c-b90b-4dab86eb1369",
   "metadata": {},
   "outputs": [
    {
     "data": {
      "text/plain": [
       "[{'node_number': 17,\n",
       "  'json_file': 'test.py',\n",
       "  'code': \"lambda df: (df[ 'population' ] / df[ 'households' ])\",\n",
       "  'expr_name': 'expr_12',\n",
       "  'writtenFields': ['popdf'],\n",
       "  'csvfiles': ['houses.csv'],\n",
       "  'fields': ['total_bedrooms', 'total_rooms', 'population', 'households'],\n",
       "  'source_code': \"houses_df['population' ] / houses_df['households']\",\n",
       "  'source_file': 'turtle14001999222773221790.py'},\n",
       " {'node_number': 14,\n",
       "  'json_file': 'test.py',\n",
       "  'code': \"lambda df: (df[ 'total_bedrooms' ] / df[ 'total_rooms' ])\",\n",
       "  'expr_name': 'expr_13',\n",
       "  'writtenFields': ['beds_to_total'],\n",
       "  'csvfiles': ['houses.csv'],\n",
       "  'fields': ['total_bedrooms', 'total_rooms', 'population', 'households'],\n",
       "  'source_code': \"houses_df['total_bedrooms'] / houses_df['total_rooms']\",\n",
       "  'source_file': 'turtle14001999222773221790.py'}]"
      ]
     },
     "execution_count": 4,
     "metadata": {},
     "output_type": "execute_result"
    }
   ],
   "source": [
    "import requests\n",
    "import json\n",
    "with open('example/test.json') as f:\n",
    "    data = json.load(f)\n",
    "response = requests.post('http://localhost:4567/index', json=data)\n",
    "json_example = response.json()\n",
    "\n",
    "json_example"
   ]
  },
  {
   "cell_type": "code",
   "execution_count": 5,
   "id": "e29238d3-fd6e-407e-8a7c-8926cc055e92",
   "metadata": {},
   "outputs": [
    {
     "name": "stdout",
     "output_type": "stream",
     "text": [
      "------------------------------------------------------\n",
      "Dataset columns (X): ['median_income', 'housing_median_age', 'total_rooms', 'total_bedrooms', 'population', 'households', 'latitude', 'longitude']\n",
      "Dataset columns (Y): ['median_house_value']\n",
      "correlation matrix:\n",
      "                    median_income  housing_median_age  total_rooms  \\\n",
      "median_income            1.000000            0.119034     0.198050   \n",
      "housing_median_age       0.119034            1.000000     0.361262   \n",
      "total_rooms              0.198050            0.361262     1.000000   \n",
      "total_bedrooms           0.008093            0.320485     0.929893   \n",
      "population               0.004834            0.296244     0.857126   \n",
      "households               0.013033            0.302916     0.918484   \n",
      "latitude                 0.079809            0.011173     0.036100   \n",
      "longitude                0.015176            0.108197     0.044568   \n",
      "expr_12                  0.018766            0.013191     0.024581   \n",
      "\n",
      "                    total_bedrooms  population  households  latitude  \\\n",
      "median_income             0.008093    0.004834    0.013033  0.079809   \n",
      "housing_median_age        0.320485    0.296244    0.302916  0.011173   \n",
      "total_rooms               0.929893    0.857126    0.918484  0.036100   \n",
      "total_bedrooms            1.000000    0.878026    0.979829  0.066318   \n",
      "population                0.878026    1.000000    0.907222  0.108785   \n",
      "households                0.979829    0.907222    1.000000  0.071035   \n",
      "latitude                  0.066318    0.108785    0.071035  1.000000   \n",
      "longitude                 0.068378    0.099773    0.055310  0.924664   \n",
      "expr_12                   0.028330    0.069863    0.027309  0.002366   \n",
      "\n",
      "                    longitude   expr_12  \n",
      "median_income        0.015176  0.018766  \n",
      "housing_median_age   0.108197  0.013191  \n",
      "total_rooms          0.044568  0.024581  \n",
      "total_bedrooms       0.068378  0.028330  \n",
      "population           0.099773  0.069863  \n",
      "households           0.055310  0.027309  \n",
      "latitude             0.924664  0.002366  \n",
      "longitude            1.000000  0.002476  \n",
      "expr_12              0.002476  1.000000  \n",
      "dropping correlated []\n",
      "correlation_with_target:  (-0.023737412956134348, 0.0006483442370042923)\n",
      "Found corr = -0.023737412956134348 with significance 0.0006483442370042923 \n",
      "------------------------------------------------------\n",
      "Dataset columns (X): ['median_income', 'housing_median_age', 'total_rooms', 'total_bedrooms', 'population', 'households', 'latitude', 'longitude', 'expr_12']\n",
      "Dataset columns (Y): ['median_house_value']\n",
      "correlation matrix:\n",
      "                    median_income  housing_median_age  total_rooms  \\\n",
      "median_income            1.000000            0.119034     0.198050   \n",
      "housing_median_age       0.119034            1.000000     0.361262   \n",
      "total_rooms              0.198050            0.361262     1.000000   \n",
      "total_bedrooms           0.008093            0.320485     0.929893   \n",
      "population               0.004834            0.296244     0.857126   \n",
      "households               0.013033            0.302916     0.918484   \n",
      "latitude                 0.079809            0.011173     0.036100   \n",
      "longitude                0.015176            0.108197     0.044568   \n",
      "expr_12                  0.018766            0.013191     0.024581   \n",
      "expr_13                  0.615479            0.136367     0.187361   \n",
      "\n",
      "                    total_bedrooms  population  households  latitude  \\\n",
      "median_income             0.008093    0.004834    0.013033  0.079809   \n",
      "housing_median_age        0.320485    0.296244    0.302916  0.011173   \n",
      "total_rooms               0.929893    0.857126    0.918484  0.036100   \n",
      "total_bedrooms            1.000000    0.878026    0.979829  0.066318   \n",
      "population                0.878026    1.000000    0.907222  0.108785   \n",
      "households                0.979829    0.907222    1.000000  0.071035   \n",
      "latitude                  0.066318    0.108785    0.071035  1.000000   \n",
      "longitude                 0.068378    0.099773    0.055310  0.924664   \n",
      "expr_12                   0.028330    0.069863    0.027309  0.002366   \n",
      "expr_13                   0.086110    0.037075    0.067022  0.114302   \n",
      "\n",
      "                    longitude   expr_12   expr_13  \n",
      "median_income        0.015176  0.018766  0.615479  \n",
      "housing_median_age   0.108197  0.013191  0.136367  \n",
      "total_rooms          0.044568  0.024581  0.187361  \n",
      "total_bedrooms       0.068378  0.028330  0.086110  \n",
      "population           0.099773  0.069863  0.037075  \n",
      "households           0.055310  0.027309  0.067022  \n",
      "latitude             0.924664  0.002366  0.114302  \n",
      "longitude            1.000000  0.002476  0.092868  \n",
      "expr_12              0.002476  1.000000  0.002881  \n",
      "expr_13              0.092868  0.002881  1.000000  \n",
      "dropping correlated []\n",
      "correlation_with_target:  (-0.2556241671955807, 3.118689311524638e-305)\n",
      "Found corr = -0.2556241671955807 with significance 3.118689311524638e-305 \n"
     ]
    }
   ],
   "source": [
    "# Analyze given transforms and if applicable create SKLEARN Function Transforms as a pipeline\n",
    "transforms_suggested, correlation = handle_transforms(\"both\", json_example, target, X, 'houses.csv')"
   ]
  },
  {
   "cell_type": "code",
   "execution_count": 6,
   "id": "b33a86e4-30cb-4ad7-83fb-174cc95a4b71",
   "metadata": {},
   "outputs": [
    {
     "data": {
      "text/plain": [
       "[('expr_12',\n",
       "  FunctionTransformer(func=<function wrapper_func.<locals>.df_func at 0x7f6bf85d6b80>)),\n",
       " ('expr_13',\n",
       "  FunctionTransformer(func=<function wrapper_func.<locals>.df_func at 0x7f6ad3c05430>))]"
      ]
     },
     "execution_count": 6,
     "metadata": {},
     "output_type": "execute_result"
    }
   ],
   "source": [
    "# Pipeline of suggested transforms (as a SKLEARN functional transformer)\n",
    "transforms_suggested"
   ]
  },
  {
   "cell_type": "code",
   "execution_count": 7,
   "id": "0fb4e0a7-132e-428f-a0d4-66c70172523e",
   "metadata": {},
   "outputs": [],
   "source": [
    "# Add estimator to suggested transformation pipeline\n",
    "transforms_suggested.append(('estimator', estimator))\n",
    "pipeline = Pipeline(transforms_suggested)"
   ]
  },
  {
   "cell_type": "code",
   "execution_count": 8,
   "id": "b40f392b-a3c5-4b73-8e5f-53d0ba0af411",
   "metadata": {},
   "outputs": [
    {
     "name": "stdout",
     "output_type": "stream",
     "text": [
      "Averaged r2 score with augmentations on original data:  0.6524868110538516\n"
     ]
    }
   ],
   "source": [
    "# Evaluate with data augmentation added as function transformers based on original data\n",
    "scores = cross_val_score(pipeline, X, numpy.ravel(target), cv=3, scoring='r2')\n",
    "print(\"Averaged r2 score with augmentations on original data:  \" + str(statistics.mean(scores)))"
   ]
  }
 ],
 "metadata": {
  "kernelspec": {
   "display_name": "Python 3 (ipykernel)",
   "language": "python",
   "name": "python3"
  },
  "language_info": {
   "codemirror_mode": {
    "name": "ipython",
    "version": 3
   },
   "file_extension": ".py",
   "mimetype": "text/x-python",
   "name": "python",
   "nbconvert_exporter": "python",
   "pygments_lexer": "ipython3",
   "version": "3.8.13"
  }
 },
 "nbformat": 4,
 "nbformat_minor": 5
}
