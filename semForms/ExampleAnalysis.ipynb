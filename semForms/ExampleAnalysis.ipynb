{
 "cells": [
  {
   "cell_type": "markdown",
   "id": "024523ed-51e0-48bd-b4d2-db16932bb162",
   "metadata": {},
   "source": [
    "SemForms is powered by static analysis of programs.  This means it can run a large repository of programs efficiently.  Most importantly it does not actually run the program, so it has no need for resolving software dependencies, and it **does not need access to the data**.  "
   ]
  },
  {
   "cell_type": "markdown",
   "id": "0bded61c-de58-4b82-96eb-79cb80a0a407",
   "metadata": {},
   "source": [
    "SemForms is powered by [WALA](https://github.com/wala/WALA) which performs inter-procedural analysis of programs, building control flow graphs (how does execution flow through constructs within a program), call graphs (how do calls flow through the program), and most importantly for SemForms **data flow** which specifies how objects get created and used within the program."
   ]
  },
  {
   "cell_type": "markdown",
   "id": "eec30451-fac7-4864-91be-c07ecdf1ec44",
   "metadata": {},
   "source": [
    "While many tools exist for static analysis, Python is an especially challenging for analysis because it is a dynamically typed language.  In addition, for SemForms we needed to be able to analyze each script independently for maximal flexibility and handle all sorts of imports of user libraries.  We built a layer of analysis technology on top of [WALA](https://github.com/wala/WALA) to handle calls to arbitrary libraries and creates data flow and control flow graphs from it [Graph4Code](https://arxiv.org/pdf/2002.09440.pdf).  We note that many popular tools for static analysis on Python do not have the mechanisms to support the data flow graph we need for expression extraction. "
   ]
  },
  {
   "cell_type": "markdown",
   "id": "2a7d1d20-b812-4ee7-8b78-58fd54ba566f",
   "metadata": {},
   "source": [
    "Let's look at a simple example."
   ]
  },
  {
   "cell_type": "code",
   "execution_count": 1,
   "id": "27f3c574-1990-4ae4-8059-aa940cdd12e1",
   "metadata": {},
   "outputs": [
    {
     "name": "stdout",
     "output_type": "stream",
     "text": [
      "import pandas as pd\n",
      "\n",
      "def read_df():\n",
      "  return pd.read_csv('houses.csv')\n",
      "\n",
      "def manipulate_df(houses_df):\n",
      "    houses_df['beds_to_total'] = houses_df['total_bedrooms'] / houses_df['total_rooms']\n",
      "    houses_df['popdf'] = houses_df['population' ] / houses_df['households']\n",
      "\n",
      "def main():\n",
      "    h_df = read_df()\n",
      "    manipulate_df(h_df)\n",
      "\n",
      "main()\n",
      "\n",
      "\n"
     ]
    }
   ],
   "source": [
    "!cat example/test.py"
   ]
  },
  {
   "cell_type": "markdown",
   "id": "5d98b765-b322-4bd0-8d3b-8ac530b76e66",
   "metadata": {},
   "source": [
    "Notice how the code creates a dataframe in one method and passes it to a different method, where its individual fields are manipulated.  To capture this, we extended [Graph4Code](https://arxiv.org/pdf/2002.09440.pdf) to model field reads and writes to library data structures."
   ]
  },
  {
   "cell_type": "markdown",
   "id": "ca0f562f-40ab-43fb-b20a-1bff82f08944",
   "metadata": {},
   "source": [
    "Notice how calling a popular recent static analysis tool for Python called `python_graphs` analyzes the code.  They provide control flow graphs for each function but there is no flow that connects the creation of the data frame to it use, nor anything that models reads or writes to it.  For instance, they just know that `houses_df` is passed in as an arg to `manipulate`.  They do not understand that `read_csv` is a library call to pandas either."
   ]
  },
  {
   "cell_type": "markdown",
   "id": "94b1a3da-0f8b-45ed-a608-f0718dd5d136",
   "metadata": {},
   "source": [
    "<image src=\"./python_graphs_output/example-controlflow-main-graph.png\">"
   ]
  },
  {
   "cell_type": "markdown",
   "id": "729f273a-17b3-4bb3-9fff-d4593a186563",
   "metadata": {},
   "source": [
    "![Control flow for main](python_graphs_output/example-controlflow-main-graph.png)"
   ]
  },
  {
   "cell_type": "markdown",
   "id": "95bf1dee-1662-4b8a-b90a-66d90835309b",
   "metadata": {},
   "source": [
    "![Control flow for manipulate](python_graphs_output/example-controlflow-manip-graph.png)"
   ]
  },
  {
   "cell_type": "markdown",
   "id": "6a5dab5f-85c2-4a03-bec0-8f6d539e8cef",
   "metadata": {},
   "source": [
    "![Control flow for read](python_graphs_output/example-controlflow-read-graph.png)"
   ]
  },
  {
   "cell_type": "markdown",
   "id": "7cca9fc3-7089-4cf6-b375-2ea9b1f9dbd3",
   "metadata": {},
   "source": [
    "Now let us look at the graph that SemForms uses for extraction."
   ]
  },
  {
   "cell_type": "code",
   "execution_count": 1,
   "id": "8a8206ef-775d-4a78-842e-08a9b4b4b6eb",
   "metadata": {},
   "outputs": [
    {
     "name": "stderr",
     "output_type": "stream",
     "text": [
      "/Users/kavithasrinivas/opt/anaconda3/envs/fm/lib/python3.9/site-packages/requests/__init__.py:109: RequestsDependencyWarning: urllib3 (1.26.9) or chardet (5.0.0)/charset_normalizer (2.0.4) doesn't match a supported version!\n",
      "  warnings.warn(\n"
     ]
    },
    {
     "name": "stdout",
     "output_type": "stream",
     "text": [
      "Local cdn resources have problems on chrome/safari when used in jupyter-notebook. \n"
     ]
    }
   ],
   "source": [
    "import requests\n",
    "import json\n",
    "from visualize_graph import show_analysis\n",
    "\n",
    "with open('example/test.json') as f:\n",
    "    data = json.load(f)\n",
    "response = requests.post('http://localhost:4567/analyze_code', json=data)\n",
    "graph = response.json()\n",
    "g = show_analysis(graph)"
   ]
  },
  {
   "cell_type": "code",
   "execution_count": 2,
   "id": "f89af4f1-182d-4bbd-a9e9-30b243faed0d",
   "metadata": {},
   "outputs": [
    {
     "data": {
      "text/html": [
       "\n",
       "        <iframe\n",
       "            width=\"500px\"\n",
       "            height=\"600px\"\n",
       "            src=\"example.html\"\n",
       "            frameborder=\"0\"\n",
       "            allowfullscreen\n",
       "            \n",
       "        ></iframe>\n",
       "        "
      ],
      "text/plain": [
       "<IPython.lib.display.IFrame at 0x7fe598913e80>"
      ]
     },
     "execution_count": 2,
     "metadata": {},
     "output_type": "execute_result"
    }
   ],
   "source": [
    "g.show('example.html')"
   ]
  },
  {
   "cell_type": "code",
   "execution_count": null,
   "id": "9cb0ee40-0175-4240-9587-20e79a231a41",
   "metadata": {},
   "outputs": [],
   "source": []
  }
 ],
 "metadata": {
  "kernelspec": {
   "display_name": "Python 3",
   "language": "python",
   "name": "python3"
  },
  "language_info": {
   "codemirror_mode": {
    "name": "ipython",
    "version": 3
   },
   "file_extension": ".py",
   "mimetype": "text/x-python",
   "name": "python",
   "nbconvert_exporter": "python",
   "pygments_lexer": "ipython3",
   "version": "3.9.12"
  }
 },
 "nbformat": 4,
 "nbformat_minor": 5
}
